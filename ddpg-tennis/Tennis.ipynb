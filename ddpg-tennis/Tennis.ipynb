{
 "cells": [
  {
   "cell_type": "markdown",
   "metadata": {},
   "source": [
    "# Collaboration and Competition\n",
    "\n",
    "---\n",
    "\n",
    "You are welcome to use this coding environment to train your agent for the project.  Follow the instructions below to get started!\n",
    "\n",
    "### 1. Start the Environment\n",
    "\n",
    "Run the next code cell to install a few packages.  This line will take a few minutes to run!"
   ]
  },
  {
   "cell_type": "code",
   "execution_count": 1,
   "metadata": {},
   "outputs": [],
   "source": [
    "!pip -q install ./python"
   ]
  },
  {
   "cell_type": "markdown",
   "metadata": {},
   "source": [
    "The environment is already saved in the Workspace and can be accessed at the file path provided below. "
   ]
  },
  {
   "cell_type": "code",
   "execution_count": 2,
   "metadata": {},
   "outputs": [
    {
     "name": "stderr",
     "output_type": "stream",
     "text": [
      "INFO:unityagents:\n",
      "'Academy' started successfully!\n",
      "Unity Academy name: Academy\n",
      "        Number of Brains: 1\n",
      "        Number of External Brains : 1\n",
      "        Lesson number : 0\n",
      "        Reset Parameters :\n",
      "\t\t\n",
      "Unity brain name: TennisBrain\n",
      "        Number of Visual Observations (per agent): 0\n",
      "        Vector Observation space type: continuous\n",
      "        Vector Observation space size (per agent): 8\n",
      "        Number of stacked Vector Observation: 3\n",
      "        Vector Action space type: continuous\n",
      "        Vector Action space size (per agent): 2\n",
      "        Vector Action descriptions: , \n"
     ]
    }
   ],
   "source": [
    "from unityagents import UnityEnvironment\n",
    "import numpy as np\n",
    "\n",
    "env = UnityEnvironment(file_name=\"/data/Tennis_Linux_NoVis/Tennis\")"
   ]
  },
  {
   "cell_type": "markdown",
   "metadata": {},
   "source": [
    "Environments contain **_brains_** which are responsible for deciding the actions of their associated agents. Here we check for the first brain available, and set it as the default brain we will be controlling from Python."
   ]
  },
  {
   "cell_type": "code",
   "execution_count": 3,
   "metadata": {},
   "outputs": [],
   "source": [
    "# get the default brain\n",
    "brain_name = env.brain_names[0]\n",
    "brain = env.brains[brain_name]"
   ]
  },
  {
   "cell_type": "markdown",
   "metadata": {},
   "source": [
    "### 2. Examine the State and Action Spaces\n",
    "\n",
    "Run the code cell below to print some information about the environment."
   ]
  },
  {
   "cell_type": "code",
   "execution_count": 4,
   "metadata": {},
   "outputs": [
    {
     "name": "stdout",
     "output_type": "stream",
     "text": [
      "Number of agents: 2\n",
      "Size of each action: 2\n",
      "There are 2 agents. Each observes a state with length: 24\n",
      "The state for the first agent looks like: [ 0.          0.          0.          0.          0.          0.          0.\n",
      "  0.          0.          0.          0.          0.          0.          0.\n",
      "  0.          0.         -6.65278625 -1.5        -0.          0.\n",
      "  6.83172083  6.         -0.          0.        ]\n"
     ]
    }
   ],
   "source": [
    "# reset the environment\n",
    "env_info = env.reset(train_mode=True)[brain_name]\n",
    "\n",
    "# number of agents \n",
    "num_agents = len(env_info.agents)\n",
    "print('Number of agents:', num_agents)\n",
    "\n",
    "# size of each action\n",
    "action_size = brain.vector_action_space_size\n",
    "print('Size of each action:', action_size)\n",
    "\n",
    "# examine the state space \n",
    "states = env_info.vector_observations\n",
    "state_size = states.shape[1]\n",
    "print('There are {} agents. Each observes a state with length: {}'.format(states.shape[0], state_size))\n",
    "print('The state for the first agent looks like:', states[0])"
   ]
  },
  {
   "cell_type": "markdown",
   "metadata": {},
   "source": [
    "### 3. Take Random Actions in the Environment\n",
    "\n",
    "In the next code cell, you will learn how to use the Python API to control the agent and receive feedback from the environment.\n",
    "\n",
    "Note that **in this coding environment, you will not be able to watch the agents while they are training**, and you should set `train_mode=True` to restart the environment."
   ]
  },
  {
   "cell_type": "code",
   "execution_count": 5,
   "metadata": {},
   "outputs": [
    {
     "name": "stdout",
     "output_type": "stream",
     "text": [
      "Total score (averaged over agents) this episode: -0.004999999888241291\n",
      "Total score (averaged over agents) this episode: -0.004999999888241291\n",
      "Total score (averaged over agents) this episode: 0.04500000085681677\n",
      "Total score (averaged over agents) this episode: 0.09500000160187483\n",
      "Total score (averaged over agents) this episode: -0.004999999888241291\n"
     ]
    }
   ],
   "source": [
    "for i in range(5):                                         # play game for 5 episodes\n",
    "    env_info = env.reset(train_mode=False)[brain_name]     # reset the environment    \n",
    "    states = env_info.vector_observations                  # get the current state (for each agent)\n",
    "    scores = np.zeros(num_agents)                          # initialize the score (for each agent)\n",
    "    while True:\n",
    "        actions = np.random.randn(num_agents, action_size) # select an action (for each agent)\n",
    "        actions = np.clip(actions, -1, 1)                  # all actions between -1 and 1\n",
    "        env_info = env.step(actions)[brain_name]           # send all actions to tne environment\n",
    "        next_states = env_info.vector_observations         # get next state (for each agent)\n",
    "        rewards = env_info.rewards                         # get reward (for each agent)\n",
    "        dones = env_info.local_done                        # see if episode finished\n",
    "        scores += env_info.rewards                         # update the score (for each agent)\n",
    "        states = next_states                               # roll over states to next time step\n",
    "        if np.any(dones):                                  # exit loop if episode finished\n",
    "            break\n",
    "    print('Total score (averaged over agents) this episode: {}'.format(np.mean(scores)))"
   ]
  },
  {
   "cell_type": "markdown",
   "metadata": {},
   "source": [
    "When finished, you can close the environment."
   ]
  },
  {
   "cell_type": "markdown",
   "metadata": {},
   "source": [
    "### 4. Import Librairies"
   ]
  },
  {
   "cell_type": "code",
   "execution_count": 6,
   "metadata": {},
   "outputs": [],
   "source": [
    "import numpy as np\n",
    "import torch\n",
    "import torch.nn as nn\n",
    "import torch.optim as optim\n",
    "import torch.nn.functional as F\n",
    "import random\n",
    "import collections\n",
    "from torch.autograd import Variable\n",
    "from collections import namedtuple, deque\n",
    "from itertools import count\n",
    "import copy\n",
    "import datetime\n",
    "import time"
   ]
  },
  {
   "cell_type": "markdown",
   "metadata": {},
   "source": [
    "### 5. Build the actor & critic Network"
   ]
  },
  {
   "cell_type": "code",
   "execution_count": 7,
   "metadata": {},
   "outputs": [],
   "source": [
    "def hidden_init(layer):\n",
    "    fan_in = layer.weight.data.size()[0]\n",
    "    lim = 1. / np.sqrt(fan_in)\n",
    "    return (-lim, lim)\n",
    "    \n",
    "class Actor(nn.Module):\n",
    "    def __init__(self, state_size, action_size, seed, fc1_units=256, fc2_units=128):\n",
    "        super(Actor, self).__init__()\n",
    "        self.seed = torch.manual_seed(seed)\n",
    "\n",
    "        self.fc1 = nn.Linear(state_size, fc1_units)\n",
    "        self.fc2 = nn.Linear(fc1_units, fc2_units)\n",
    "        self.fc3 = nn.Linear(fc2_units, action_size)\n",
    "        self.reset_parameters()\n",
    "\n",
    "    def reset_parameters(self):\n",
    "        self.fc1.weight.data.uniform_(*hidden_init(self.fc1))\n",
    "        self.fc2.weight.data.uniform_(*hidden_init(self.fc2))\n",
    "        self.fc3.weight.data.uniform_(-3e-3, 3e-3)\n",
    "\n",
    "    def forward(self, state):\n",
    "        x = F.relu(self.fc1(state))\n",
    "        x = F.relu(self.fc2(x))\n",
    "        return F.tanh(self.fc3(x))\n",
    "    \n",
    "class Critic(nn.Module):\n",
    "    \"\"\"Critic (Value) Model.\"\"\"\n",
    "\n",
    "    def __init__(self, state_size, action_size, seed, fcs1_units=256, fc2_units=128, dropout=0.2):\n",
    "        super(Critic, self).__init__()\n",
    "        self.seed = torch.manual_seed(seed)\n",
    "        self.dropout = nn.Dropout(p=dropout)\n",
    "        self.fcs1 = nn.Linear(state_size, fcs1_units)\n",
    "        self.fc2 = nn.Linear(fcs1_units+action_size, fc2_units)\n",
    "        self.fc3 = nn.Linear(fc2_units, 1)\n",
    "        self.reset_parameters()\n",
    "\n",
    "    def reset_parameters(self):\n",
    "        self.fcs1.weight.data.uniform_(*hidden_init(self.fcs1))\n",
    "        self.fc2.weight.data.uniform_(*hidden_init(self.fc2))\n",
    "        self.fc3.weight.data.uniform_(-3e-3, 3e-3)\n",
    "\n",
    "    def forward(self, state, action):\n",
    "        \"\"\"Build a critic (value) network that maps (state, action) pairs -> Q-values.\"\"\"\n",
    "        xs = F.relu(self.fcs1(state))\n",
    "        x = torch.cat((xs, action), dim=1)\n",
    "        x = F.relu(self.fc2(x))\n",
    "        x = self.dropout(x)\n",
    "        return self.fc3(x)    "
   ]
  },
  {
   "cell_type": "markdown",
   "metadata": {},
   "source": [
    "### 6. Build the replay Buffer"
   ]
  },
  {
   "cell_type": "code",
   "execution_count": 8,
   "metadata": {},
   "outputs": [],
   "source": [
    "class ReplayBuffer:\n",
    "    def __init__(self, buffer_size, batch_size, seed):\n",
    "        self.memory = deque(maxlen=buffer_size)  # internal memory (deque)\n",
    "        self.batch_size = batch_size\n",
    "        self.experience = namedtuple(\"Experience\", field_names=[\"state\", \"action\", \"reward\", \"next_state\", \"done\"])\n",
    "        self.seed = random.seed(seed)\n",
    "    \n",
    "    def add(self, state, action, reward, next_state, done):\n",
    "        e = self.experience(state, action, reward, next_state, done)\n",
    "        self.memory.append(e)\n",
    "    \n",
    "    def sample(self):\n",
    "        experiences = random.sample(self.memory, k=self.batch_size)\n",
    "        states = torch.from_numpy(np.vstack([e.state for e in experiences if e is not None])).float().to(device)\n",
    "        actions = torch.from_numpy(np.vstack([e.action for e in experiences if e is not None])).float().to(device)\n",
    "        rewards = torch.from_numpy(np.vstack([e.reward for e in experiences if e is not None])).float().to(device)\n",
    "        next_states = torch.from_numpy(np.vstack([e.next_state for e in experiences if e is not None])).float().to(device)\n",
    "        dones = torch.from_numpy(np.vstack([e.done for e in experiences if e is not None]).astype(np.uint8)).float().to(device)\n",
    "\n",
    "        return (states, actions, rewards, next_states, dones)\n",
    "\n",
    "    def __len__(self):\n",
    "        return len(self.memory)"
   ]
  },
  {
   "cell_type": "markdown",
   "metadata": {},
   "source": [
    "### 7. Build the noise process"
   ]
  },
  {
   "cell_type": "code",
   "execution_count": 9,
   "metadata": {},
   "outputs": [],
   "source": [
    "class OUNoise:\n",
    "    \"\"\"Ornstein-Uhlenbeck process.\"\"\"\n",
    "\n",
    "    def __init__(self, size, seed, mu=0., theta=0.15, sigma=0.2):\n",
    "        \"\"\"Initialize parameters and noise process.\"\"\"\n",
    "        self.mu = mu * np.ones(size)\n",
    "        self.theta = theta\n",
    "        self.sigma = sigma\n",
    "        self.seed = random.seed(seed)\n",
    "        self.reset()\n",
    "\n",
    "    def reset(self):\n",
    "        \"\"\"Reset the internal state (= noise) to mean (mu).\"\"\"\n",
    "        self.state = copy.copy(self.mu)\n",
    " \n",
    "    def sample(self):\n",
    "        \"\"\"Update internal state and return it as a noise sample.\"\"\"\n",
    "        x = self.state\n",
    "        dx = self.theta * (self.mu - x) + self.sigma * np.array([np.random.randn() for i in range(len(x))])\n",
    "        self.state = x + dx\n",
    "        return self.state"
   ]
  },
  {
   "cell_type": "markdown",
   "metadata": {},
   "source": [
    "### 8. Build the agent"
   ]
  },
  {
   "cell_type": "code",
   "execution_count": 32,
   "metadata": {},
   "outputs": [],
   "source": [
    "class Agent:\n",
    "    \n",
    "    def __init__(self,action_space,state_space,num_agents,random_seed=0,device=\"cpu\"):\n",
    "\n",
    "        self.seed = random.seed(random_seed)\n",
    "        self.memory_size = int(1e5)\n",
    "        self.batch_size  = 256\n",
    "        self.state_space = state_space\n",
    "        self.action_space = action_space\n",
    "        self.num_agents = num_agents\n",
    "        self.gamma = 0.99\n",
    "        self.lr_actor = 1e-4\n",
    "        self.lr_critic = 1e-4\n",
    "        self.tau = 1e-2\n",
    "        self.device = device\n",
    "        self.epsilon = 1.0\n",
    "        self.epsilon_decay = 1e-6\n",
    "        self.update_every  = 5\n",
    "        self.num_updates = 10\n",
    "        \n",
    "        # Initialize actor network\n",
    "        self.act_net     = Actor(state_space, action_space,random_seed).to(device)\n",
    "        self.tgt_act_net = Actor(state_space, action_space,random_seed).to(device)\n",
    "        self.act_opt     = optim.Adam(self.act_net.parameters(), lr=self.lr_actor)\n",
    "        \n",
    "        # initialize critique network\n",
    "        self.crt_net     = Critic(state_space, action_space,random_seed).to(device)\n",
    "        self.tgt_crt_net = Critic(state_space, action_space,random_seed).to(device)\n",
    "        self.crt_opt     = optim.Adam(self.crt_net.parameters(), lr=self.lr_critic)\n",
    "        \n",
    "        # noise process\n",
    "        self.noise = OUNoise(action_space, random_seed)\n",
    "    \n",
    "        # Replay memory\n",
    "        self.memory = ReplayBuffer(self.memory_size, self.batch_size, random_seed)\n",
    "\n",
    "        # Make sure target is with the same weight as the source\n",
    "        self.hard_copy(self.tgt_act_net, self.act_net)\n",
    "        self.hard_copy(self.tgt_crt_net, self.crt_net)\n",
    "\n",
    "    def reset(self):\n",
    "        self.noise.reset()\n",
    "    \n",
    "    def soft_update(self, local_model, target_model,tau):\n",
    "      \n",
    "        for target_param, local_param in zip(target_model.parameters(), local_model.parameters()):\n",
    "            target_param.data.copy_(tau*local_param.data + (1.0-tau)*target_param.data) \n",
    "\n",
    "    def hard_copy(self, local_model, target_model):\n",
    "      \n",
    "        for target_param, local_param in zip(target_model.parameters(), local_model.parameters()):\n",
    "            target_param.data.copy_(local_param.data) \n",
    "    \n",
    "    def step(self, states, actions, rewards, next_states, dones,t_step):\n",
    "        \n",
    "        for state, action, reward, next_state, done in zip(states, actions, rewards, next_states, dones):\n",
    "            self.memory.add(state, action, reward, next_state, done)\n",
    "        \n",
    "        # Learn every UPDATE_EVERY time steps.\n",
    "        if len(self.memory) > self.batch_size and t_step % self.update_every == 0 :\n",
    "            for _ in range(self.num_updates):\n",
    "                experiences = self.memory.sample() # sample from the experience replay\n",
    "                self.learn(experiences) # learn from the experience replay\n",
    "           \n",
    "        \n",
    "        #  Noise update\n",
    "        self.epsilon -= self.epsilon_decay\n",
    "        \n",
    "        \n",
    "    def act(self,state,add_noise=True):\n",
    "        state = torch.from_numpy(state).float().to(self.device)\n",
    "        self.act_net.eval()\n",
    "        with torch.no_grad():\n",
    "            actions = self.act_net(state).cpu().data.numpy()\n",
    "        self.act_net.train()\n",
    "        if add_noise:\n",
    "            actions += self.noise.sample()\n",
    "        return np.clip(actions,-1,1)  \n",
    "    \n",
    "    def learn(self, experiences):\n",
    "        \n",
    "        # sample from our experience replay buffer\n",
    "        batch_states, batch_actions, batch_rewards, batch_next_states, batch_dones = experiences\n",
    "\n",
    "        \n",
    "        # get next action and Q values \n",
    "        action_next         = self.tgt_act_net(batch_next_states)\n",
    "        q_target_next       = self.tgt_crt_net(batch_next_states,action_next)\n",
    "        \n",
    "        # get q-targets and q-expected\n",
    "        q_targets   = batch_rewards + (self.gamma * q_target_next * (1 - batch_dones))\n",
    "        q_expected = self.crt_net(batch_states,batch_actions)\n",
    "        \n",
    "\n",
    "        # ------------------- update critic ---------------------------- #\n",
    "        critic_loss = F.mse_loss(q_expected, q_targets) \n",
    "        self.crt_opt.zero_grad()\n",
    "        critic_loss.backward()\n",
    "        torch.nn.utils.clip_grad_norm_(self.crt_net.parameters(), 1)\n",
    "        self.crt_opt.step()\n",
    "\n",
    "        # ------------------- update actor ---------------------------- #\n",
    "        action_pred = self.act_net(batch_states)\n",
    "        actor_loss = - self.crt_net(batch_states,action_pred).mean()\n",
    "        self.act_opt.zero_grad()\n",
    "        actor_loss.backward()\n",
    "        self.act_opt.step()      \n",
    "        \n",
    "        \n",
    "         # ------------------- update target network ------------------- #\n",
    "        self.soft_update(self.act_net, self.tgt_act_net,self.tau) \n",
    "        self.soft_update(self.crt_net, self.tgt_crt_net,self.tau)"
   ]
  },
  {
   "cell_type": "markdown",
   "metadata": {},
   "source": [
    "### 9. Build the training function"
   ]
  },
  {
   "cell_type": "code",
   "execution_count": 33,
   "metadata": {},
   "outputs": [],
   "source": [
    "def ddpg(agent,n_episodes=1000,max_t=1000,random_seed=15):\n",
    "    scores_window = deque(maxlen=100)  # last 100 scores\n",
    "    global_scores     = []\n",
    "    global_average_score = []\n",
    "    tic = time.time()\n",
    "    solved = False\n",
    "    for i_episode in range(1, n_episodes+1):\n",
    "        env_info = env.reset(train_mode=True)[brain_name]\n",
    "        states = env_info.vector_observations \n",
    "        agent.reset()\n",
    "        scores = np.zeros(num_agents) \n",
    "        timestep = time.time()\n",
    "        \n",
    "        for t in range(max_t):\n",
    "            actions     = agent.act(states)\n",
    "            env_info    = env.step(actions)[brain_name]         # send the action to the environment\n",
    "            next_states = env_info.vector_observations          # get the next state\n",
    "            rewards     = env_info.rewards                      # get the reward\n",
    "            dones       = env_info.local_done                   # see if episode has finished\n",
    "            \n",
    "            agent.step(states, actions, rewards, next_states, dones,t)\n",
    "            states = next_states\n",
    "            scores += rewards\n",
    "            \n",
    "            if np.any(dones):                                  # exit loop if episode finished\n",
    "                break\n",
    "        \n",
    "        scores_window.append(np.max(scores))\n",
    "        global_scores.append(np.max(scores))\n",
    "        score_average = np.mean(scores_window)\n",
    "        global_average_score.append(score_average)\n",
    "\n",
    "        \n",
    "        if i_episode % 50 == 0:\n",
    "            torch.save(agent.act_net.state_dict(), 'checkpoint_actor.pth')\n",
    "            torch.save(agent.crt_net.state_dict(), 'checkpoint_critic.pth')\n",
    "            print('\\rEpisode {}\\tAverage Score: {:.2f}'.format(i_episode, score_average))   \n",
    "        \n",
    "        if not solved and score_average >= 0.5:\n",
    "            solved = True\n",
    "            toc = time.time()\n",
    "            print('\\nEnvironment solved in {:d} episodes!\\tAverage Score: {:.2f}, training time: {}'.format(i_episode, score_average, toc-tic))\n",
    "            torch.save(agent.act_net.state_dict(), 'best_checkpoint_actor.pth')\n",
    "            torch.save(agent.crt_net.state_dict(), 'best_checkpoint_critic.pth')\n",
    "            \n",
    "    return global_scores, global_average_score"
   ]
  },
  {
   "cell_type": "markdown",
   "metadata": {},
   "source": [
    "### 10. Train the Agent"
   ]
  },
  {
   "cell_type": "code",
   "execution_count": 31,
   "metadata": {},
   "outputs": [
    {
     "name": "stdout",
     "output_type": "stream",
     "text": [
      "Episode 50\tAverage Score: 0.00\n",
      "Episode 100\tAverage Score: 0.00\n",
      "Episode 150\tAverage Score: 0.01\n",
      "Episode 200\tAverage Score: 0.02\n",
      "Episode 250\tAverage Score: 0.05\n",
      "Episode 300\tAverage Score: 0.08\n",
      "Episode 350\tAverage Score: 0.11\n",
      "Episode 400\tAverage Score: 0.13\n",
      "Episode 450\tAverage Score: 0.13\n",
      "Episode 500\tAverage Score: 0.14\n",
      "Episode 550\tAverage Score: 0.17\n",
      "Episode 600\tAverage Score: 0.17\n",
      "Episode 650\tAverage Score: 0.20\n",
      "Episode 700\tAverage Score: 0.28\n",
      "Episode 750\tAverage Score: 0.36\n",
      "Episode 800\tAverage Score: 0.36\n",
      "Episode 850\tAverage Score: 0.38\n",
      "\n",
      "Environment solved in 895 episodes!\tAverage Score: 0.51, training time: 3271.125985145569\n",
      "Episode 900\tAverage Score: 0.52\n",
      "Episode 950\tAverage Score: 0.55\n",
      "Episode 1000\tAverage Score: 0.57\n"
     ]
    }
   ],
   "source": [
    "action_size = brain.vector_action_space_size\n",
    "state_size = env_info.vector_observations.shape[1]\n",
    "num_agents = len(env_info.agents)\n",
    "device = \"cpu\"\n",
    "agent = Agent(action_size,state_size,num_agents,random_seed=0)\n",
    "global_scores, global_average_score = ddpg(agent)"
   ]
  },
  {
   "cell_type": "markdown",
   "metadata": {},
   "source": [
    "### 11. Display results"
   ]
  },
  {
   "cell_type": "code",
   "execution_count": 34,
   "metadata": {},
   "outputs": [
    {
     "data": {
      "image/png": "[encoded data removed]",
      "text/plain": [
       "<matplotlib.figure.Figure at 0x7fc1a0afe978>"
      ]
     },
     "metadata": {
      "needs_background": "light"
     },
     "output_type": "display_data"
    }
   ],
   "source": [
    "import matplotlib.pyplot as plt\n",
    "%matplotlib inline\n",
    "\n",
    "fig = plt.figure()\n",
    "plt.subplot(2, 1, 1)\n",
    "plt.plot(np.arange(1, len(global_scores)+1), global_scores)\n",
    "plt.ylabel('Score')\n",
    "plt.xlabel('Episode #')\n",
    "\n",
    "plt.subplot(2, 1, 2)\n",
    "plt.plot(np.arange(1, len(global_average_score)+1), global_average_score)\n",
    "plt.ylabel('Average Score')\n",
    "plt.xlabel('Episode #')\n",
    "plt.show()"
   ]
  },
  {
   "cell_type": "markdown",
   "metadata": {},
   "source": [
    "### 12. Test the Agent"
   ]
  },
  {
   "cell_type": "code",
   "execution_count": 41,
   "metadata": {},
   "outputs": [
    {
     "name": "stdout",
     "output_type": "stream",
     "text": [
      "Total score (averaged over agents) this episode: 0.8190000122413039\n"
     ]
    }
   ],
   "source": [
    "action_size = brain.vector_action_space_size\n",
    "state_size = env_info.vector_observations.shape[1]\n",
    "device = \"cpu\"\n",
    "\n",
    "# Load Agent\n",
    "num_agents = len(env_info.agents)\n",
    "agent = Agent(action_size,state_size,num_agents,random_seed=0)\n",
    "agent.act_net.load_state_dict(torch.load('checkpoint_actor.pth'))\n",
    "agent.crt_net.load_state_dict(torch.load('checkpoint_critic.pth'))            \n",
    "scores_window = []\n",
    "for i_episode in range(10):\n",
    "    env_info = env.reset(train_mode=True)[brain_name]      # reset the environment    \n",
    "    states = env_info.vector_observations                  # get the current state (for each agent)\n",
    "    scores = np.zeros(num_agents)                          # initialize the score (for each agent)\n",
    "    while True:\n",
    "        actions = agent.act(states) # select an action (for each agent)\n",
    "        env_info = env.step(actions)[brain_name]           # send all actions to tne environment\n",
    "        next_states = env_info.vector_observations         # get next state (for each agent)\n",
    "        rewards = env_info.rewards                         # get reward (for each agent)\n",
    "        dones = env_info.local_done                        # see if episode finished\n",
    "        scores += env_info.rewards                         # update the score (for each agent)\n",
    "        states = next_states                               # roll over states to next time step\n",
    "        if np.any(dones):                                  # exit loop if episode finished\n",
    "            break\n",
    "    scores_window.append(np.max(scores))\n",
    "    \n",
    "print('Total score (averaged over agents) this episode: {}'.format(np.mean(scores_window)))"
   ]
  },
  {
   "cell_type": "code",
   "execution_count": null,
   "metadata": {},
   "outputs": [],
   "source": [
    "env.close()"
   ]
  }
 ],
 "metadata": {
  "kernelspec": {
   "display_name": "Python 3",
   "language": "python",
   "name": "python3"
  },
  "language_info": {
   "codemirror_mode": {
    "name": "ipython",
    "version": 3
   },
   "file_extension": ".py",
   "mimetype": "text/x-python",
   "name": "python",
   "nbconvert_exporter": "python",
   "pygments_lexer": "ipython3",
   "version": "3.6.3"
  }
 },
 "nbformat": 4,
 "nbformat_minor": 2
}
